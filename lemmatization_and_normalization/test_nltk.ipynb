{
 "cells": [
  {
   "cell_type": "code",
   "execution_count": 4,
   "metadata": {},
   "outputs": [],
   "source": [
    "import nltk"
   ]
  },
  {
   "cell_type": "code",
   "execution_count": 5,
   "metadata": {},
   "outputs": [
    {
     "name": "stdout",
     "output_type": "stream",
     "text": [
      "showing info https://raw.githubusercontent.com/nltk/nltk_data/gh-pages/index.xml\n"
     ]
    },
    {
     "data": {
      "text/plain": [
       "True"
      ]
     },
     "execution_count": 5,
     "metadata": {},
     "output_type": "execute_result"
    }
   ],
   "source": [
    "nltk.download()"
   ]
  },
  {
   "cell_type": "code",
   "execution_count": 37,
   "metadata": {},
   "outputs": [
    {
     "name": "stderr",
     "output_type": "stream",
     "text": [
      "[nltk_data] Downloading package stopwords to\n",
      "[nltk_data]     C:\\Users\\Rodrigo\\AppData\\Roaming\\nltk_data...\n",
      "[nltk_data]   Package stopwords is already up-to-date!\n"
     ]
    }
   ],
   "source": [
    "nltk.download('stopwords')\n",
    "stopwords = nltk.corpus.stopwords.words('portuguese')"
   ]
  },
  {
   "cell_type": "code",
   "execution_count": 40,
   "metadata": {},
   "outputs": [
    {
     "name": "stderr",
     "output_type": "stream",
     "text": [
      "[nltk_data] Downloading package mac_morpho to\n",
      "[nltk_data]     C:\\Users\\Rodrigo\\AppData\\Roaming\\nltk_data...\n",
      "[nltk_data]   Package mac_morpho is already up-to-date!\n"
     ]
    },
    {
     "data": {
      "text/plain": [
       "True"
      ]
     },
     "execution_count": 40,
     "metadata": {},
     "output_type": "execute_result"
    }
   ],
   "source": [
    "nltk.download('mac_morpho')"
   ]
  },
  {
   "cell_type": "code",
   "execution_count": null,
   "metadata": {},
   "outputs": [],
   "source": [
    "palavras_proibidas = [\n",
    "    \"morreu\",\n",
    "    \"fodeu\",\n",
    "    \"arregaçou\",\n",
    "    \"\"\n",
    "]"
   ]
  },
  {
   "cell_type": "code",
   "execution_count": 50,
   "metadata": {},
   "outputs": [],
   "source": [
    "text = \"Nós estamos aqui para rir dos desafios e viver nossas vidas tão bem que a morte tremerá para nos tomar\""
   ]
  },
  {
   "cell_type": "code",
   "execution_count": 52,
   "metadata": {},
   "outputs": [],
   "source": [
    "t = nltk.word_tokenize(text)"
   ]
  },
  {
   "cell_type": "code",
   "execution_count": 39,
   "metadata": {},
   "outputs": [
    {
     "data": {
      "text/plain": [
       "['morrer', 'morreu', 'morte']"
      ]
     },
     "execution_count": 39,
     "metadata": {},
     "output_type": "execute_result"
    }
   ],
   "source": [
    "lemmas = []\n",
    "lematizer = nltk.WordNetLemmatizer()\n",
    "for word in t:\n",
    "    lemmas.append(lematizer.lemmatize(word.lower()))\n",
    "lemmas\n",
    "    "
   ]
  },
  {
   "cell_type": "code",
   "execution_count": 44,
   "metadata": {},
   "outputs": [],
   "source": [
    "def word_stemming_nltk_portuguese(word):\n",
    "    stemmer = nltk.stem.RSLPStemmer()\n",
    "    return stemmer.stem(word)"
   ]
  },
  {
   "cell_type": "code",
   "execution_count": 45,
   "metadata": {},
   "outputs": [
    {
     "data": {
      "text/plain": [
       "'morr'"
      ]
     },
     "execution_count": 45,
     "metadata": {},
     "output_type": "execute_result"
    }
   ],
   "source": [
    "word_stemming_nltk_portuguese('morrer')"
   ]
  },
  {
   "cell_type": "code",
   "execution_count": 47,
   "metadata": {},
   "outputs": [
    {
     "data": {
      "text/plain": [
       "'morr'"
      ]
     },
     "execution_count": 47,
     "metadata": {},
     "output_type": "execute_result"
    }
   ],
   "source": [
    "pst = nltk.stem.SnowballStemmer(\"portuguese\")\n",
    "pst.stem('morreu')"
   ]
  },
  {
   "cell_type": "code",
   "execution_count": 58,
   "metadata": {},
   "outputs": [],
   "source": [
    "from nltk.corpus import wordnet"
   ]
  },
  {
   "cell_type": "code",
   "execution_count": 63,
   "metadata": {},
   "outputs": [
    {
     "data": {
      "text/plain": [
       "dict_keys(['eng', 'als', 'arb', 'bul', 'cmn', 'dan', 'ell', 'fin', 'fra', 'heb', 'hrv', 'isl', 'ita', 'ita_iwn', 'jpn', 'cat', 'eus', 'glg', 'spa', 'ind', 'zsm', 'nld', 'nno', 'nob', 'pol', 'por', 'ron', 'lit', 'slk', 'slv', 'swe', 'tha'])"
      ]
     },
     "execution_count": 63,
     "metadata": {},
     "output_type": "execute_result"
    }
   ],
   "source": [
    "wordnet.langs()"
   ]
  },
  {
   "cell_type": "code",
   "execution_count": 66,
   "metadata": {},
   "outputs": [
    {
     "data": {
      "text/plain": [
       "[['Nós', ['Nó', 'Nós', 'nodo', 'nó']],\n",
       " ['estamos', []],\n",
       " ['aqui', ['aqui', 'aqui', 'cá']],\n",
       " ['para', ['para']],\n",
       " ['rir', ['gargalhar', 'rir']],\n",
       " ['dos', ['DOS', 'Dos', 'DOS', 'Dos']],\n",
       " ['desafios', []],\n",
       " ['e', []],\n",
       " ['viver',\n",
       "  ['viver',\n",
       "   'habitar',\n",
       "   'morar',\n",
       "   'residir',\n",
       "   'viver',\n",
       "   'habitar',\n",
       "   'morar',\n",
       "   'povoar',\n",
       "   'viver']],\n",
       " ['nossas', []],\n",
       " ['vidas', []],\n",
       " ['tão',\n",
       "  ['ao_longo_de',\n",
       "   'daquela_maneira',\n",
       "   'de_acordo_de',\n",
       "   'de_que_modo',\n",
       "   'desta_maneira',\n",
       "   'enquanto',\n",
       "   'ingualmente',\n",
       "   'na_qualidade_de',\n",
       "   'pois_que',\n",
       "   'qual',\n",
       "   'quão',\n",
       "   'relativamente_a',\n",
       "   'segundo',\n",
       "   'tão',\n",
       "   'ídem']],\n",
       " ['bem',\n",
       "  ['bem',\n",
       "   'bem',\n",
       "   'bem',\n",
       "   'bastante',\n",
       "   'bem',\n",
       "   'bem',\n",
       "   'posse',\n",
       "   'propriedade',\n",
       "   'bem',\n",
       "   'bem',\n",
       "   'Bens',\n",
       "   'artigo',\n",
       "   'bem',\n",
       "   'fazenda',\n",
       "   'mercadoria',\n",
       "   'objecto_posto_à_venda',\n",
       "   'produto',\n",
       "   'bem',\n",
       "   'bem',\n",
       "   'benefício',\n",
       "   'bem',\n",
       "   'propriedade',\n",
       "   'recurso',\n",
       "   'vantagem',\n",
       "   'virtude',\n",
       "   'bem',\n",
       "   'lucro',\n",
       "   'proveito',\n",
       "   'bem',\n",
       "   'possessão',\n",
       "   'riqueza',\n",
       "   'Património',\n",
       "   'bem',\n",
       "   'bens_de_raiz',\n",
       "   'fazenda',\n",
       "   'herança',\n",
       "   'patrimônio',\n",
       "   'propriedade']],\n",
       " ['que', []],\n",
       " ['a', []],\n",
       " ['morte',\n",
       "  ['assassinato',\n",
       "   'homicídio',\n",
       "   'morte',\n",
       "   'morte',\n",
       "   'fatalidade',\n",
       "   'morte',\n",
       "   'expiração',\n",
       "   'morte',\n",
       "   'morte',\n",
       "   'Morte',\n",
       "   'A_Morte',\n",
       "   'Ceifador_Sinistro',\n",
       "   'Morte',\n",
       "   'falecido',\n",
       "   'morte',\n",
       "   'morte',\n",
       "   'morte',\n",
       "   'destruição',\n",
       "   'morte',\n",
       "   'morte',\n",
       "   'fim',\n",
       "   'morte',\n",
       "   'queda']],\n",
       " ['tremerá', []],\n",
       " ['para', ['para']],\n",
       " ['nos', []],\n",
       " ['tomar',\n",
       "  ['consumir',\n",
       "   'tomar',\n",
       "   'beber',\n",
       "   'tomar',\n",
       "   'beber',\n",
       "   'tomar',\n",
       "   'beber',\n",
       "   'tomar',\n",
       "   'beber',\n",
       "   'libar',\n",
       "   'tomar',\n",
       "   'agarrar',\n",
       "   'pegar',\n",
       "   'tomar',\n",
       "   'adoptar',\n",
       "   'tomar',\n",
       "   'atingir',\n",
       "   'tomar']]]"
      ]
     },
     "execution_count": 66,
     "metadata": {},
     "output_type": "execute_result"
    }
   ],
   "source": [
    "sinonimos = []\n",
    "for word in t:\n",
    "    w = [word,[]]\n",
    "    for sinonimo in wordnet.synsets(word, lang='por'):\n",
    "        for l in sinonimo.lemmas('por'):\n",
    "            w[1].append(l.name())\n",
    "    sinonimos.append(w)\n",
    "sinonimos"
   ]
  },
  {
   "cell_type": "code",
   "execution_count": null,
   "metadata": {},
   "outputs": [],
   "source": []
  }
 ],
 "metadata": {
  "kernelspec": {
   "display_name": "Python 3.9.10 ('Tests-with-NLP-gNAoSgPr')",
   "language": "python",
   "name": "python3"
  },
  "language_info": {
   "codemirror_mode": {
    "name": "ipython",
    "version": 3
   },
   "file_extension": ".py",
   "mimetype": "text/x-python",
   "name": "python",
   "nbconvert_exporter": "python",
   "pygments_lexer": "ipython3",
   "version": "3.9.10"
  },
  "orig_nbformat": 4,
  "vscode": {
   "interpreter": {
    "hash": "9edfb665e679786a7f34dcf7410018b4c93c9da82c41e286160ed2b43304f1cc"
   }
  }
 },
 "nbformat": 4,
 "nbformat_minor": 2
}
